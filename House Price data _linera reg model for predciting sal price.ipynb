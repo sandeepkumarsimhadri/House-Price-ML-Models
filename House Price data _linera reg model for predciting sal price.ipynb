{
 "cells": [
  {
   "cell_type": "code",
   "execution_count": 58,
   "id": "d9ff599a",
   "metadata": {},
   "outputs": [],
   "source": [
    "import pandas as pd\n",
    "from sklearn.model_selection import train_test_split\n",
    "import warnings\n",
    "from sklearn.preprocessing import StandardScaler\n",
    "import numpy as np\n",
    "from sklearn.linear_model import LinearRegression\n",
    "warnings.filterwarnings('ignore')\n",
    "from sklearn.metrics import r2_score"
   ]
  },
  {
   "cell_type": "code",
   "execution_count": 59,
   "id": "8952826f",
   "metadata": {},
   "outputs": [],
   "source": [
    "hp_df=pd.read_csv('House Price Data.csv')\n",
    "y=hp_df['SalePrice']\n",
    "\n",
    "#Droping output variable from dataset\n",
    "\n",
    "hp_df.drop(columns=['SalePrice','Id'],inplace=True)\n",
    "\n",
    "nadf_info=pd.DataFrame({'col_name':hp_df.columns,'na_cnt':hp_df.isnull().sum(),'na_pct':(hp_df.isnull().sum()/hp_df.shape[0])*100})\n",
    "\n",
    "cols_grt50_ls=list(nadf_info[nadf_info['na_pct']>50]['col_name'])\n",
    "\n",
    "hp_df.drop(columns=cols_grt50_ls,inplace=True)\n",
    "\n",
    "x_train,x_test,y_train,y_test=train_test_split(hp_df,y,random_state=49,test_size=0.2)\n",
    "\n",
    "con_cols=[col for col in hp_df.columns if hp_df[col].dtype=='int64' or hp_df[col].dtype=='float64']\n",
    "\n",
    "cat_cols=[col for col in hp_df.columns if hp_df[col].dtype=='object']\n",
    "\n",
    "## filling missing values for contnous columns \n",
    "for col in con_cols:\n",
    "    x_train[col].fillna(x_train[col].mean(),inplace=True)\n",
    "    x_test[col].fillna(x_train[col].mean(),inplace=True)\n",
    "\n",
    "## filling missing values for catgorical columns \n",
    "    \n",
    "for col in cat_cols:\n",
    "    x_train[col].fillna(x_train[col].mode()[0],inplace=True)\n",
    "    x_test[col].fillna(x_train[col].mode()[0],inplace=True)\n"
   ]
  },
  {
   "cell_type": "code",
   "execution_count": 60,
   "id": "0099f60e",
   "metadata": {},
   "outputs": [],
   "source": [
    "scalar=StandardScaler()\n",
    "\n",
    "for col in con_cols:\n",
    "    x_train[col]=scalar.fit_transform(np.array(x_train[col]).reshape(-1,1))\n",
    "    x_test[col]=scalar.transform(np.array(x_test[col]).reshape(-1,1))\n"
   ]
  },
  {
   "cell_type": "code",
   "execution_count": 61,
   "id": "e5777d96",
   "metadata": {},
   "outputs": [],
   "source": [
    "cat_encd_train= pd.get_dummies(x_train[cat_cols])\n",
    "cat_encd_test=pd.get_dummies(x_test[cat_cols])"
   ]
  },
  {
   "cell_type": "code",
   "execution_count": 62,
   "id": "1d3baacc",
   "metadata": {},
   "outputs": [
    {
     "data": {
      "text/plain": [
       "(1168, 197)"
      ]
     },
     "execution_count": 62,
     "metadata": {},
     "output_type": "execute_result"
    }
   ],
   "source": [
    "cat_encd_train_final,cat_encd_test_final=cat_encd_train.align(cat_encd_test,join='inner',axis=1)\n",
    "cat_encd_train_final.shape###aligning train & test data one hot encoded catg columns due to unqual no of columns i.e no of cilumns would differ for that we align to get same"
   ]
  },
  {
   "cell_type": "code",
   "execution_count": 63,
   "id": "903079f7",
   "metadata": {},
   "outputs": [],
   "source": [
    "x_train_final=pd.concat([x_train[con_cols],cat_encd_train_final],axis=1)\n"
   ]
  },
  {
   "cell_type": "code",
   "execution_count": 64,
   "id": "ff2ffedf",
   "metadata": {},
   "outputs": [],
   "source": [
    "x_test_final=pd.concat([x_test[con_cols],cat_encd_test_final],axis=1)"
   ]
  },
  {
   "cell_type": "code",
   "execution_count": 65,
   "id": "c43c1ab8",
   "metadata": {},
   "outputs": [
    {
     "data": {
      "text/plain": [
       "LinearRegression()"
      ]
     },
     "execution_count": 65,
     "metadata": {},
     "output_type": "execute_result"
    }
   ],
   "source": [
    "lin_reg=LinearRegression()\n",
    "lin_reg.fit(x_train_final,y_train)"
   ]
  },
  {
   "cell_type": "code",
   "execution_count": 66,
   "id": "5da91fdf",
   "metadata": {},
   "outputs": [],
   "source": [
    "y_test_pred=lin_reg.predict(x_test_final)"
   ]
  },
  {
   "cell_type": "code",
   "execution_count": 67,
   "id": "ea198092",
   "metadata": {},
   "outputs": [
    {
     "data": {
      "text/plain": [
       "0.8755431979271163"
      ]
     },
     "execution_count": 67,
     "metadata": {},
     "output_type": "execute_result"
    }
   ],
   "source": [
    "lin_reg.score(x_test_final,y_test)"
   ]
  },
  {
   "cell_type": "code",
   "execution_count": 68,
   "id": "e4e48a4f",
   "metadata": {},
   "outputs": [
    {
     "data": {
      "text/plain": [
       "0.8977182664016318"
      ]
     },
     "execution_count": 68,
     "metadata": {},
     "output_type": "execute_result"
    }
   ],
   "source": [
    "lin_reg.score(x_train_final,y_train)"
   ]
  },
  {
   "cell_type": "code",
   "execution_count": 69,
   "id": "be3beeeb",
   "metadata": {},
   "outputs": [
    {
     "data": {
      "text/plain": [
       "0.8755431979271163"
      ]
     },
     "execution_count": 69,
     "metadata": {},
     "output_type": "execute_result"
    }
   ],
   "source": [
    "r2_score(y_test,y_test_pred)"
   ]
  }
 ],
 "metadata": {
  "kernelspec": {
   "display_name": "Python 3",
   "language": "python",
   "name": "python3"
  },
  "language_info": {
   "codemirror_mode": {
    "name": "ipython",
    "version": 3
   },
   "file_extension": ".py",
   "mimetype": "text/x-python",
   "name": "python",
   "nbconvert_exporter": "python",
   "pygments_lexer": "ipython3",
   "version": "3.8.8"
  }
 },
 "nbformat": 4,
 "nbformat_minor": 5
}
