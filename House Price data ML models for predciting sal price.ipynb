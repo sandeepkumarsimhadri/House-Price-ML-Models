{
 "cells": [
  {
   "cell_type": "code",
   "execution_count": 1,
   "id": "d9ff599a",
   "metadata": {},
   "outputs": [],
   "source": [
    "import pandas as pd\n",
    "from sklearn.model_selection import train_test_split\n",
    "import warnings\n",
    "from sklearn.preprocessing import StandardScaler\n",
    "import numpy as np\n",
    "from sklearn.linear_model import LinearRegression\n",
    "from sklearn.linear_model import Lasso\n",
    "from sklearn.linear_model import Ridge\n",
    "from sklearn.linear_model import SGDRegressor\n",
    "warnings.filterwarnings('ignore')\n",
    "from sklearn.metrics import r2_score\n",
    "from sklearn.ensemble import RandomForestRegressor\n",
    "from sklearn.ensemble import AdaBoostRegressor\n",
    "from sklearn.ensemble import GradientBoostingClassifier\n",
    "from sklearn.model_selection import GridSearchCV"
   ]
  },
  {
   "cell_type": "code",
   "execution_count": 2,
   "id": "8952826f",
   "metadata": {},
   "outputs": [],
   "source": [
    "hp_df=pd.read_csv('House Price Data.csv')\n",
    "y=hp_df['SalePrice']\n",
    "\n",
    "#Droping output variable from dataset\n",
    "\n",
    "hp_df.drop(columns=['SalePrice','Id'],inplace=True)\n",
    "\n",
    "nadf_info=pd.DataFrame({'col_name':hp_df.columns,'na_cnt':hp_df.isnull().sum(),'na_pct':(hp_df.isnull().sum()/hp_df.shape[0])*100})\n",
    "\n",
    "cols_grt50_ls=list(nadf_info[nadf_info['na_pct']>50]['col_name'])\n",
    "\n",
    "# Droping missing values greater than 50 % cols\n",
    "hp_df.drop(columns=cols_grt50_ls,inplace=True)\n",
    "\n",
    "#Splitting train& test data\n",
    "x_train,x_test,y_train,y_test=train_test_split(hp_df,y,random_state=49,test_size=0.2)\n",
    "\n",
    "con_cols=[col for col in hp_df.columns if hp_df[col].dtype=='int64' or hp_df[col].dtype=='float64']\n",
    "\n",
    "cat_cols=[col for col in hp_df.columns if hp_df[col].dtype=='object']\n",
    "\n",
    "## filling missing values for contnous columns \n",
    "for col in con_cols:\n",
    "    x_train[col].fillna(x_train[col].mean(),inplace=True)\n",
    "    x_test[col].fillna(x_train[col].mean(),inplace=True)\n",
    "\n",
    "## filling missing values for catgorical columns \n",
    "    \n",
    "for col in cat_cols:\n",
    "    x_train[col].fillna(x_train[col].mode()[0],inplace=True)\n",
    "    x_test[col].fillna(x_train[col].mode()[0],inplace=True)\n"
   ]
  },
  {
   "cell_type": "code",
   "execution_count": 3,
   "id": "0099f60e",
   "metadata": {},
   "outputs": [],
   "source": [
    "# Scaling the cont cols\n",
    "scalar=StandardScaler()\n",
    "\n",
    "for col in con_cols:\n",
    "    x_train[col]=scalar.fit_transform(np.array(x_train[col]).reshape(-1,1))\n",
    "    x_test[col]=scalar.transform(np.array(x_test[col]).reshape(-1,1))\n"
   ]
  },
  {
   "cell_type": "code",
   "execution_count": 4,
   "id": "e5777d96",
   "metadata": {},
   "outputs": [],
   "source": [
    "#one hot encoding for catg cols\n",
    "cat_encd_train= pd.get_dummies(x_train[cat_cols])\n",
    "cat_encd_test=pd.get_dummies(x_test[cat_cols])"
   ]
  },
  {
   "cell_type": "code",
   "execution_count": 5,
   "id": "1d3baacc",
   "metadata": {},
   "outputs": [
    {
     "data": {
      "text/plain": [
       "(1168, 197)"
      ]
     },
     "execution_count": 5,
     "metadata": {},
     "output_type": "execute_result"
    }
   ],
   "source": [
    "# Aligning train data with test data so that un necessary cols encoded in test data get removed\n",
    "\n",
    "cat_encd_train_final,cat_encd_test_final=cat_encd_train.align(cat_encd_test,join='inner',axis=1)\n",
    "cat_encd_train_final.shape###aligning train & test data one hot encoded catg columns due to unqual no of columns i.e no of cilumns would differ for that we align to get same"
   ]
  },
  {
   "cell_type": "code",
   "execution_count": 6,
   "id": "903079f7",
   "metadata": {},
   "outputs": [],
   "source": [
    "# Craeting final train data to feed the model\n",
    "x_train_final=pd.concat([x_train[con_cols],cat_encd_train_final],axis=1)\n"
   ]
  },
  {
   "cell_type": "code",
   "execution_count": 7,
   "id": "ff2ffedf",
   "metadata": {},
   "outputs": [],
   "source": [
    "# Craeting final test data to feed the model\n",
    "x_test_final=pd.concat([x_test[con_cols],cat_encd_test_final],axis=1)"
   ]
  },
  {
   "cell_type": "code",
   "execution_count": 8,
   "id": "c43c1ab8",
   "metadata": {},
   "outputs": [
    {
     "data": {
      "text/plain": [
       "LinearRegression()"
      ]
     },
     "execution_count": 8,
     "metadata": {},
     "output_type": "execute_result"
    }
   ],
   "source": [
    "# Linear reg object creation\n",
    "lin_reg=LinearRegression()\n",
    "lin_reg.fit(x_train_final,y_train)"
   ]
  },
  {
   "cell_type": "code",
   "execution_count": 9,
   "id": "5da91fdf",
   "metadata": {},
   "outputs": [],
   "source": [
    "# test data prediction\n",
    "y_test_pred=lin_reg.predict(x_test_final)"
   ]
  },
  {
   "cell_type": "code",
   "execution_count": 10,
   "id": "ea198092",
   "metadata": {},
   "outputs": [
    {
     "data": {
      "text/plain": [
       "0.8755431979271163"
      ]
     },
     "execution_count": 10,
     "metadata": {},
     "output_type": "execute_result"
    }
   ],
   "source": [
    "# Score for test data\n",
    "lin_reg.score(x_test_final,y_test)"
   ]
  },
  {
   "cell_type": "code",
   "execution_count": 11,
   "id": "e4e48a4f",
   "metadata": {},
   "outputs": [
    {
     "data": {
      "text/plain": [
       "0.8977182664016318"
      ]
     },
     "execution_count": 11,
     "metadata": {},
     "output_type": "execute_result"
    }
   ],
   "source": [
    "# score for train data\n",
    "lin_reg.score(x_train_final,y_train)"
   ]
  },
  {
   "cell_type": "code",
   "execution_count": 12,
   "id": "be3beeeb",
   "metadata": {},
   "outputs": [
    {
     "data": {
      "text/plain": [
       "0.8755431979271163"
      ]
     },
     "execution_count": 12,
     "metadata": {},
     "output_type": "execute_result"
    }
   ],
   "source": [
    "# R2 (Rsquare score)\n",
    "r2_score(y_test,y_test_pred)"
   ]
  },
  {
   "cell_type": "code",
   "execution_count": 13,
   "id": "bface77f",
   "metadata": {},
   "outputs": [
    {
     "data": {
      "text/plain": [
       "array([ 0.,  0.,  0.,  0., -0., -0., -0.,  0., -0., -0., -0., -0.,  0.])"
      ]
     },
     "execution_count": 13,
     "metadata": {},
     "output_type": "execute_result"
    }
   ],
   "source": [
    "# Lasso regularization\n",
    "ls_reg=Lasso(alpha =1)\n",
    "ls_reg.fit(x_train_final,y_train)\n",
    "ls_reg.coef_[ls_reg.coef_==0]"
   ]
  },
  {
   "cell_type": "code",
   "execution_count": 14,
   "id": "8bef791a",
   "metadata": {},
   "outputs": [
    {
     "data": {
      "text/plain": [
       "0"
      ]
     },
     "execution_count": 14,
     "metadata": {},
     "output_type": "execute_result"
    }
   ],
   "source": [
    "# Ridge regularization\n",
    "lr_rid=Ridge(alpha=2)\n",
    "lr_rid.fit(x_train_final,y_train)\n",
    "len(lr_rid.coef_[lr_rid.coef_==0])"
   ]
  },
  {
   "cell_type": "code",
   "execution_count": 15,
   "id": "35f5e867",
   "metadata": {},
   "outputs": [
    {
     "name": "stdout",
     "output_type": "stream",
     "text": [
      "-- Epoch 1\n",
      "Norm: 51579.16, NNZs: 233, Bias: 8413.738101, T: 1168, Avg. loss: 1043199387.239838\n",
      "Total training time: 0.03 seconds.\n",
      "-- Epoch 2\n",
      "Norm: 56875.10, NNZs: 233, Bias: 9159.222585, T: 2336, Avg. loss: 646371819.535809\n",
      "Total training time: 0.03 seconds.\n",
      "-- Epoch 3\n",
      "Norm: 59376.22, NNZs: 233, Bias: 9135.163665, T: 3504, Avg. loss: 632866281.490674\n",
      "Total training time: 0.03 seconds.\n",
      "-- Epoch 4\n",
      "Norm: 60910.33, NNZs: 233, Bias: 9272.285728, T: 4672, Avg. loss: 599221993.671714\n",
      "Total training time: 0.03 seconds.\n",
      "-- Epoch 5\n",
      "Norm: 65553.92, NNZs: 233, Bias: 9928.453157, T: 5840, Avg. loss: 549001942.352187\n",
      "Total training time: 0.05 seconds.\n",
      "-- Epoch 6\n",
      "Norm: 67600.69, NNZs: 233, Bias: 10007.699962, T: 7008, Avg. loss: 534862945.044929\n",
      "Total training time: 0.05 seconds.\n",
      "-- Epoch 7\n",
      "Norm: 69107.36, NNZs: 233, Bias: 10108.439898, T: 8176, Avg. loss: 517129498.376063\n",
      "Total training time: 0.05 seconds.\n",
      "-- Epoch 8\n",
      "Norm: 67897.56, NNZs: 233, Bias: 9962.836199, T: 9344, Avg. loss: 472540104.739358\n",
      "Total training time: 0.05 seconds.\n",
      "-- Epoch 9\n",
      "Norm: 71180.69, NNZs: 233, Bias: 10272.818765, T: 10512, Avg. loss: 442225238.318878\n",
      "Total training time: 0.05 seconds.\n",
      "-- Epoch 10\n",
      "Norm: 72290.44, NNZs: 233, Bias: 10314.714711, T: 11680, Avg. loss: 489591295.311321\n",
      "Total training time: 0.05 seconds.\n",
      "-- Epoch 11\n",
      "Norm: 73795.25, NNZs: 233, Bias: 10497.479485, T: 12848, Avg. loss: 484304903.613563\n",
      "Total training time: 0.05 seconds.\n",
      "-- Epoch 12\n",
      "Norm: 73642.78, NNZs: 233, Bias: 10378.574657, T: 14016, Avg. loss: 481655704.868617\n",
      "Total training time: 0.05 seconds.\n",
      "-- Epoch 13\n",
      "Norm: 75261.90, NNZs: 233, Bias: 10698.142502, T: 15184, Avg. loss: 454834685.334826\n",
      "Total training time: 0.06 seconds.\n",
      "-- Epoch 14\n",
      "Norm: 76703.80, NNZs: 233, Bias: 10505.046392, T: 16352, Avg. loss: 452173305.072901\n",
      "Total training time: 0.06 seconds.\n",
      "Convergence after 14 epochs took 0.06 seconds\n"
     ]
    }
   ],
   "source": [
    "# SGD Regressor(stocastic gradient descent)\n",
    "sgd=SGDRegressor(verbose=1)\n",
    "sgd.fit(x_train_final,y_train)\n",
    "y_test_sgd_pred=sgd.predict(x_test_final)\n",
    "y_train_sgd_pred=sgd.predict(x_train_final)"
   ]
  },
  {
   "cell_type": "code",
   "execution_count": 16,
   "id": "44efeeab",
   "metadata": {},
   "outputs": [
    {
     "data": {
      "text/plain": [
       "0.8841417200354119"
      ]
     },
     "execution_count": 16,
     "metadata": {},
     "output_type": "execute_result"
    }
   ],
   "source": [
    "#R2 score of test data using SGD\n",
    "r2_score(y_test,y_test_sgd_pred)"
   ]
  },
  {
   "cell_type": "code",
   "execution_count": 17,
   "id": "539bea1e",
   "metadata": {},
   "outputs": [
    {
     "data": {
      "text/plain": [
       "0.8722418418662226"
      ]
     },
     "execution_count": 17,
     "metadata": {},
     "output_type": "execute_result"
    }
   ],
   "source": [
    "#R2 score of train data using SGD\n",
    "r2_score(y_train,y_train_sgd_pred)"
   ]
  },
  {
   "cell_type": "code",
   "execution_count": 18,
   "id": "75f348cc",
   "metadata": {},
   "outputs": [],
   "source": [
    "#Random Forest Regressor bagging technique\n",
    "rdfc=RandomForestRegressor(n_estimators=150)\n",
    "rdfc.fit(x_train_final,y_train)\n",
    "rdfc_test_pred=rdfc.predict(x_test_final)\n",
    "rdfc_train_pred=rdfc.predict(x_train_final)"
   ]
  },
  {
   "cell_type": "code",
   "execution_count": 19,
   "id": "de40e12b",
   "metadata": {},
   "outputs": [
    {
     "data": {
      "text/plain": [
       "0.8944870430010764"
      ]
     },
     "execution_count": 19,
     "metadata": {},
     "output_type": "execute_result"
    }
   ],
   "source": [
    "#R2 score of test data using RF\n",
    "r2_score(y_test,rdfc_test_pred)"
   ]
  },
  {
   "cell_type": "code",
   "execution_count": 20,
   "id": "a5cf0997",
   "metadata": {},
   "outputs": [
    {
     "data": {
      "text/plain": [
       "0.9806832830369177"
      ]
     },
     "execution_count": 20,
     "metadata": {},
     "output_type": "execute_result"
    }
   ],
   "source": [
    "#R2 score of train data using RF\n",
    "r2_score(y_train,rdfc_train_pred)"
   ]
  },
  {
   "cell_type": "code",
   "execution_count": 21,
   "id": "174d04df",
   "metadata": {},
   "outputs": [],
   "source": [
    "#Ada Boost Regressor technique\n",
    "adrg=AdaBoostRegressor()\n",
    "adrg.fit(x_train_final,y_train)\n",
    "adrg_test_pred=adrg.predict(x_test_final)\n",
    "adrg_train_pred=adrg.predict(x_train_final)"
   ]
  },
  {
   "cell_type": "code",
   "execution_count": 22,
   "id": "6af5c591",
   "metadata": {},
   "outputs": [
    {
     "data": {
      "text/plain": [
       "0.8177911136637515"
      ]
     },
     "execution_count": 22,
     "metadata": {},
     "output_type": "execute_result"
    }
   ],
   "source": [
    "#R2 score of test data using AdaBoost Boosting technique\n",
    "r2_score(y_test,adrg_test_pred)"
   ]
  },
  {
   "cell_type": "code",
   "execution_count": 23,
   "id": "98a87cc8",
   "metadata": {},
   "outputs": [
    {
     "data": {
      "text/plain": [
       "0.8640491231056003"
      ]
     },
     "execution_count": 23,
     "metadata": {},
     "output_type": "execute_result"
    }
   ],
   "source": [
    "#R2 score of train data using AdaBoost Boosting technique\n",
    "r2_score(y_train,adrg_train_pred)"
   ]
  },
  {
   "cell_type": "code",
   "execution_count": 24,
   "id": "3f4d7b96",
   "metadata": {},
   "outputs": [],
   "source": [
    "gbc=GradientBoostingClassifier()\n",
    "\n",
    "\n",
    "dict={\n",
    "    'n_estimators': [200,300,400],\n",
    "    'max_depth':[5,8,10,15],\n",
    "    'min_samples_split':[5,3,4,2],\n",
    "    'min_samples_leaf':[1,2,3,4]\n",
    "    } \n",
    "\n",
    "gvcv=GridSearchCV(gbc,dict,cv=5)"
   ]
  },
  {
   "cell_type": "code",
   "execution_count": null,
   "id": "296df148",
   "metadata": {},
   "outputs": [],
   "source": [
    "gvcv.fit(x_train_final,y_train)"
   ]
  }
 ],
 "metadata": {
  "kernelspec": {
   "display_name": "Python 3 (ipykernel)",
   "language": "python",
   "name": "python3"
  },
  "language_info": {
   "codemirror_mode": {
    "name": "ipython",
    "version": 3
   },
   "file_extension": ".py",
   "mimetype": "text/x-python",
   "name": "python",
   "nbconvert_exporter": "python",
   "pygments_lexer": "ipython3",
   "version": "3.9.7"
  }
 },
 "nbformat": 4,
 "nbformat_minor": 5
}
