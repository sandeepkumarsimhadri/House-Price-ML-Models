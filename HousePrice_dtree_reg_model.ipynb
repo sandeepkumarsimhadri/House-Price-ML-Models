{
 "cells": [
  {
   "cell_type": "code",
   "execution_count": 2,
   "id": "1182d5f6",
   "metadata": {},
   "outputs": [],
   "source": [
    "import pandas as pd\n",
    "from sklearn.model_selection import train_test_split\n",
    "import warnings\n",
    "from sklearn.preprocessing import StandardScaler\n",
    "import numpy as np\n",
    "from sklearn.tree import DecisionTreeRegressor\n",
    "from sklearn.metrics import r2_score\n",
    "warnings.filterwarnings('ignore')"
   ]
  },
  {
   "cell_type": "code",
   "execution_count": 3,
   "id": "ccc11b7a",
   "metadata": {},
   "outputs": [],
   "source": [
    "hp_df=pd.read_csv('House Price Data.csv')\n",
    "y=hp_df['SalePrice']\n",
    "\n",
    "#Droping output variable from dataset\n",
    "\n",
    "hp_df.drop(columns=['SalePrice','Id'],inplace=True)\n",
    "\n",
    "nadf_info=pd.DataFrame({'col_name':hp_df.columns,'na_cnt':hp_df.isnull().sum(),'na_pct':(hp_df.isnull().sum()/hp_df.shape[0])*100})\n",
    "\n",
    "cols_grt50_ls=list(nadf_info[nadf_info['na_pct']>50]['col_name'])\n",
    "\n",
    "hp_df.drop(columns=cols_grt50_ls,inplace=True)\n",
    "\n",
    "x_train,x_test,y_train,y_test=train_test_split(hp_df,y,random_state=49,test_size=0.25)\n",
    "\n",
    "con_cols=[col for col in hp_df.columns if hp_df[col].dtype=='int64' or hp_df[col].dtype=='float64']\n",
    "\n",
    "cat_cols=[col for col in hp_df.columns if hp_df[col].dtype=='object']\n",
    "\n",
    "## filling missing values for contnous columns \n",
    "for col in con_cols:\n",
    "    x_train[col].fillna(x_train[col].mean(),inplace=True)\n",
    "    x_test[col].fillna(x_train[col].mean(),inplace=True)\n",
    "\n",
    "## filling missing values for catgorical columns \n",
    "    \n",
    "for col in cat_cols:\n",
    "    x_train[col].fillna(x_train[col].mode()[0],inplace=True)\n",
    "    x_test[col].fillna(x_train[col].mode()[0],inplace=True)\n"
   ]
  },
  {
   "cell_type": "code",
   "execution_count": 30,
   "id": "3c7e5f7c",
   "metadata": {},
   "outputs": [],
   "source": [
    "scalar=StandardScaler()\n",
    "\n",
    "for col in con_cols:\n",
    "    x_train[col]=scalar.fit_transform(np.array(x_train[col]).reshape(-1,1))\n",
    "    x_test[col]=scalar.transform(np.array(x_test[col]).reshape(-1,1))\n"
   ]
  },
  {
   "cell_type": "code",
   "execution_count": 5,
   "id": "1a98831f",
   "metadata": {},
   "outputs": [],
   "source": [
    "cat_encd_train= pd.get_dummies(x_train[cat_cols])\n",
    "cat_encd_test=pd.get_dummies(x_test[cat_cols])"
   ]
  },
  {
   "cell_type": "code",
   "execution_count": 6,
   "id": "47ba6bfd",
   "metadata": {},
   "outputs": [
    {
     "data": {
      "text/plain": [
       "(365, 200)"
      ]
     },
     "execution_count": 6,
     "metadata": {},
     "output_type": "execute_result"
    }
   ],
   "source": [
    "cat_encd_train_final,cat_encd_test_final=cat_encd_train.align(cat_encd_test,join='inner',axis=1)\n",
    "cat_encd_test_final.shape###aligning train & test data one hot encoded catg columns due to unqual no of columns i.e no of cilumns would differ for that we align to get same"
   ]
  },
  {
   "cell_type": "code",
   "execution_count": 7,
   "id": "11661d79",
   "metadata": {},
   "outputs": [],
   "source": [
    "x_train_final=pd.concat([x_train[con_cols],cat_encd_train_final],axis=1)\n"
   ]
  },
  {
   "cell_type": "code",
   "execution_count": 8,
   "id": "d086e15e",
   "metadata": {},
   "outputs": [],
   "source": [
    "x_test_final=pd.concat([x_test[con_cols],cat_encd_test_final],axis=1)"
   ]
  },
  {
   "cell_type": "code",
   "execution_count": 9,
   "id": "c555849e",
   "metadata": {},
   "outputs": [],
   "source": [
    "dtree_reg=DecisionTreeRegressor()"
   ]
  },
  {
   "cell_type": "code",
   "execution_count": 10,
   "id": "72ba6f54",
   "metadata": {},
   "outputs": [
    {
     "data": {
      "text/plain": [
       "DecisionTreeRegressor()"
      ]
     },
     "execution_count": 10,
     "metadata": {},
     "output_type": "execute_result"
    }
   ],
   "source": [
    "dtree_reg.fit(x_train_final,y_train)"
   ]
  },
  {
   "cell_type": "code",
   "execution_count": 11,
   "id": "62fb7332",
   "metadata": {},
   "outputs": [
    {
     "data": {
      "text/plain": [
       "array([107400., 126500., 165500., 236000.,  85000.,  79500., 187500.,\n",
       "       110000., 318061., 159500., 128000.,  98600., 154000., 221000.,\n",
       "       274970., 207500., 236000., 112500., 115000., 193000., 109500.,\n",
       "       107000., 165000., 328000., 174000., 157900., 192000., 143000.,\n",
       "       165600., 174000., 205950., 107500., 100000., 134500., 159434.,\n",
       "       118500.,  88000., 162500., 138500., 129000., 168000.,  55000.,\n",
       "       215000.,  91000., 310000., 198500., 426000., 104000., 194500.,\n",
       "       124000., 156500., 207000., 248000., 205000., 144000., 285000.,\n",
       "       378500., 138500., 202500., 144000.,  96500., 101800.,  80500.,\n",
       "       164000., 339750., 154000., 214000., 311500., 130000.,  86000.,\n",
       "       179000., 241500., 113000., 134450., 178000., 174900., 105000.,\n",
       "       237000., 213250., 138500., 165400., 218000., 262500., 179000.,\n",
       "       260400., 177000., 158500., 165600., 325300.,  68400., 133000.,\n",
       "       186700., 126000., 140000., 113000., 179600.,  94000., 176000.,\n",
       "       138500., 348000., 159000., 100000., 128000., 139000., 290000.,\n",
       "       129000., 163500., 446261., 153337., 129900.,  79900., 325624.,\n",
       "       154000., 159500., 124500., 225000., 222500., 176000., 180000.,\n",
       "       250000.,  96500., 163990., 159000., 218000., 190000., 167900.,\n",
       "       148000., 117000., 185000., 175900., 178000., 115000.,  82000.,\n",
       "       170000., 165400., 145000., 224900., 225000., 141000., 611657.,\n",
       "       240000., 202500., 110000., 215000., 251000., 168000., 302000.,\n",
       "       113000., 190000., 141000., 253000., 139500., 141000., 173000.,\n",
       "       160000., 110500., 200000.,  95000., 115000., 250000., 336000.,\n",
       "       236000., 154000., 303477., 311500., 115000., 141000., 185000.,\n",
       "        76500., 311500.,  91000., 144000., 117000., 180000., 118000.,\n",
       "       326000., 213500., 251000., 239000., 165000., 326000., 189950.,\n",
       "       119000., 135000., 226000., 133000.,  94000., 138000., 342643.,\n",
       "       186700., 104900., 132500., 170000., 143000., 194000., 336000.,\n",
       "       104900.,  89000., 110000., 201000.,  88000., 128500., 177000.,\n",
       "       217500., 173000., 154000., 173000.,  89500., 215200., 176000.,\n",
       "       197900.,  82500., 230000., 128000., 194000., 107900., 179600.,\n",
       "       141000., 197500., 178000., 234000., 125000., 100000., 167500.,\n",
       "       112000.,  91300., 274970.,  79500., 278000., 123500., 315750.,\n",
       "       280000.,  94000., 313000., 137500., 110000., 139000., 313000.,\n",
       "       223000., 170000.,  94000., 135000., 241500., 164000., 165000.,\n",
       "       160000., 375000., 164000., 192000., 173733.,  94000., 130000.,\n",
       "       335000., 137500., 240000., 165500., 255900., 154000., 211000.,\n",
       "       135000., 104900., 333168.,  82500., 130000., 115000.,  88000.,\n",
       "       167000., 172500., 176432.,  91000., 112000.,  94000., 138500.,\n",
       "       185900., 424870., 148000., 128500., 149900.,  80000., 181000.,\n",
       "       181000., 119200., 113000., 104900., 185850., 107000., 251000.,\n",
       "       109500., 141000.,  94000., 154000., 191000., 251000., 197000.,\n",
       "       174500., 180000.,  58500., 260000., 130000., 130250., 190000.,\n",
       "       117000., 277500., 150000., 133500., 198900.,  98000., 185750.,\n",
       "       133000., 140000., 177500.,  91000., 135000., 144000., 219500.,\n",
       "       136900., 133000., 183900., 289000., 104000.,  98000., 185000.,\n",
       "       231500., 121600., 226000., 107000., 108000., 123000., 162000.,\n",
       "       167000., 124000., 140000., 360000., 369900., 214000., 109500.,\n",
       "       163500., 190000., 198900.,  96500., 155000., 202500., 137500.,\n",
       "       200000., 184000., 303477., 165400., 123000., 128900., 140000.,\n",
       "       303477.,  80500., 313000., 241500., 222000., 239000., 204900.,\n",
       "       119000., 159500., 194500., 232000., 149500., 179600., 118000.,\n",
       "       170000.])"
      ]
     },
     "execution_count": 11,
     "metadata": {},
     "output_type": "execute_result"
    }
   ],
   "source": [
    "y_test_pred=dtree_reg.predict(x_test_final)\n",
    "y_test_pred"
   ]
  },
  {
   "cell_type": "code",
   "execution_count": 12,
   "id": "653b0d9b",
   "metadata": {},
   "outputs": [
    {
     "data": {
      "text/plain": [
       "0.7914889009625663"
      ]
     },
     "execution_count": 12,
     "metadata": {},
     "output_type": "execute_result"
    }
   ],
   "source": [
    "dtree_reg.score(x_test_final,y_test)# R2 score for test data"
   ]
  },
  {
   "cell_type": "code",
   "execution_count": 13,
   "id": "2220ce57",
   "metadata": {},
   "outputs": [
    {
     "data": {
      "text/plain": [
       "1.0"
      ]
     },
     "execution_count": 13,
     "metadata": {},
     "output_type": "execute_result"
    }
   ],
   "source": [
    "dtree_reg.score(x_train_final,y_train)"
   ]
  },
  {
   "cell_type": "code",
   "execution_count": 14,
   "id": "00b292da",
   "metadata": {},
   "outputs": [
    {
     "data": {
      "text/plain": [
       "0.7914889009625663"
      ]
     },
     "execution_count": 14,
     "metadata": {},
     "output_type": "execute_result"
    }
   ],
   "source": [
    "r2_score(y_test,y_test_pred)"
   ]
  }
 ],
 "metadata": {
  "kernelspec": {
   "display_name": "Python 3 (ipykernel)",
   "language": "python",
   "name": "python3"
  },
  "language_info": {
   "codemirror_mode": {
    "name": "ipython",
    "version": 3
   },
   "file_extension": ".py",
   "mimetype": "text/x-python",
   "name": "python",
   "nbconvert_exporter": "python",
   "pygments_lexer": "ipython3",
   "version": "3.9.7"
  }
 },
 "nbformat": 4,
 "nbformat_minor": 5
}
