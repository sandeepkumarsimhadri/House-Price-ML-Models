{
 "cells": [
  {
   "cell_type": "code",
   "execution_count": 3,
   "id": "1182d5f6",
   "metadata": {},
   "outputs": [],
   "source": [
    "import pandas as pd\n",
    "from sklearn.model_selection import train_test_split\n",
    "import warnings\n",
    "from sklearn.preprocessing import StandardScaler\n",
    "import numpy as np\n",
    "from sklearn.tree import DecisionTreeRegressor\n",
    "from sklearn.metrics import r2_score\n",
    "warnings.filterwarnings('ignore')"
   ]
  },
  {
   "cell_type": "code",
   "execution_count": 4,
   "id": "ccc11b7a",
   "metadata": {},
   "outputs": [],
   "source": [
    "hp_df=pd.read_csv('House Price Data.csv')\n",
    "y=hp_df['SalePrice']\n",
    "\n",
    "#Droping output variable from dataset\n",
    "\n",
    "hp_df.drop(columns=['SalePrice','Id'],inplace=True)\n",
    "\n",
    "nadf_info=pd.DataFrame({'col_name':hp_df.columns,'na_cnt':hp_df.isnull().sum(),'na_pct':(hp_df.isnull().sum()/hp_df.shape[0])*100})\n",
    "\n",
    "cols_grt50_ls=list(nadf_info[nadf_info['na_pct']>50]['col_name'])\n",
    "\n",
    "hp_df.drop(columns=cols_grt50_ls,inplace=True)\n",
    "\n",
    "x_train,x_test,y_train,y_test=train_test_split(hp_df,y,random_state=49,test_size=0.25)\n",
    "\n",
    "con_cols=[col for col in hp_df.columns if hp_df[col].dtype=='int64' or hp_df[col].dtype=='float64']\n",
    "\n",
    "cat_cols=[col for col in hp_df.columns if hp_df[col].dtype=='object']\n",
    "\n",
    "## filling missing values for contnous columns \n",
    "for col in con_cols:\n",
    "    x_train[col].fillna(x_train[col].mean(),inplace=True)\n",
    "    x_test[col].fillna(x_train[col].mean(),inplace=True)\n",
    "\n",
    "## filling missing values for catgorical columns \n",
    "    \n",
    "for col in cat_cols:\n",
    "    x_train[col].fillna(x_train[col].mode()[0],inplace=True)\n",
    "    x_test[col].fillna(x_train[col].mode()[0],inplace=True)\n"
   ]
  },
  {
   "cell_type": "code",
   "execution_count": 5,
   "id": "3c7e5f7c",
   "metadata": {},
   "outputs": [],
   "source": [
    "scalar=StandardScaler()\n",
    "\n",
    "for col in con_cols:\n",
    "    x_train[col]=scalar.fit_transform(np.array(x_train[col]).reshape(-1,1))\n",
    "    x_test[col]=scalar.transform(np.array(x_test[col]).reshape(-1,1))\n"
   ]
  },
  {
   "cell_type": "code",
   "execution_count": 6,
   "id": "1a98831f",
   "metadata": {},
   "outputs": [],
   "source": [
    "cat_encd_train= pd.get_dummies(x_train[cat_cols])\n",
    "cat_encd_test=pd.get_dummies(x_test[cat_cols])"
   ]
  },
  {
   "cell_type": "code",
   "execution_count": 7,
   "id": "47ba6bfd",
   "metadata": {},
   "outputs": [
    {
     "data": {
      "text/plain": [
       "(365, 200)"
      ]
     },
     "execution_count": 7,
     "metadata": {},
     "output_type": "execute_result"
    }
   ],
   "source": [
    "cat_encd_train_final,cat_encd_test_final=cat_encd_train.align(cat_encd_test,join='inner',axis=1)\n",
    "cat_encd_test_final.shape###aligning train & test data one hot encoded catg columns due to unqual no of columns i.e no of cilumns would differ for that we align to get same"
   ]
  },
  {
   "cell_type": "code",
   "execution_count": 8,
   "id": "11661d79",
   "metadata": {},
   "outputs": [],
   "source": [
    "x_train_final=pd.concat([x_train[con_cols],cat_encd_train_final],axis=1)\n"
   ]
  },
  {
   "cell_type": "code",
   "execution_count": 9,
   "id": "d086e15e",
   "metadata": {},
   "outputs": [],
   "source": [
    "x_test_final=pd.concat([x_test[con_cols],cat_encd_test_final],axis=1)"
   ]
  },
  {
   "cell_type": "code",
   "execution_count": 10,
   "id": "c555849e",
   "metadata": {},
   "outputs": [],
   "source": [
    "dtree_reg=DecisionTreeRegressor()"
   ]
  },
  {
   "cell_type": "code",
   "execution_count": 11,
   "id": "72ba6f54",
   "metadata": {},
   "outputs": [
    {
     "data": {
      "text/plain": [
       "DecisionTreeRegressor()"
      ]
     },
     "execution_count": 11,
     "metadata": {},
     "output_type": "execute_result"
    }
   ],
   "source": [
    "dtree_reg.fit(x_train_final,y_train)"
   ]
  },
  {
   "cell_type": "code",
   "execution_count": 12,
   "id": "62fb7332",
   "metadata": {},
   "outputs": [
    {
     "data": {
      "text/plain": [
       "array([107400., 121500., 149500., 215000.,  85000.,  79500., 187500.,\n",
       "       107900., 318061., 156500., 132250., 107000., 154000., 224900.,\n",
       "       171000., 215000., 236000., 112500., 107400., 193500.,  84900.,\n",
       "       110000., 158000., 335000., 174000., 153000., 187100., 119500.,\n",
       "       165600., 173500., 205950., 153000., 100000., 134000., 140000.,\n",
       "        90000.,  83000., 158500., 132000., 129000., 174000.,  55000.,\n",
       "       224900., 110000., 310000., 195000., 446261.,  90000., 194500.,\n",
       "       124000., 159500., 200500., 122000., 205000., 144000., 285000.,\n",
       "       380000., 132000., 212000., 145000., 119000., 101800.,  68500.,\n",
       "       184000., 339750., 175000., 214000., 205000., 128500.,  86000.,\n",
       "       181000., 226000., 118000., 167500., 178900., 174900., 100000.,\n",
       "       250000., 212900., 145000., 168500., 218000., 250000., 179000.,\n",
       "       260000., 177000., 162500., 165600., 325300.,  67000., 129000.,\n",
       "       190000., 112000., 140000., 110000., 179600.,  98000., 180000.,\n",
       "       145000., 336000., 180000., 100000., 128000., 131400., 290000.,\n",
       "       133000., 163500., 438780., 157000.,  79900., 129900., 316600.,\n",
       "       174900., 156500., 131500., 210000., 222500., 174000., 180000.,\n",
       "       239000.,  86000., 165600., 159000., 218000., 195000., 167900.,\n",
       "       150000., 119500., 185000., 175900., 178900., 115000.,  82000.,\n",
       "       176500., 165400., 180000., 241000., 226000., 133000., 556581.,\n",
       "       257500., 193000., 107900., 197900., 275000., 174000., 309000.,\n",
       "       112500., 193000., 139000., 250000., 108000., 133000., 173000.,\n",
       "       153500., 107500., 200500., 133900., 107400., 270000., 336000.,\n",
       "       222500., 155000., 303477., 311500., 112000., 142000., 185000.,\n",
       "        76500., 225000.,  91000., 154000., 133900., 181134., 118000.,\n",
       "       326000., 197900., 251000., 259500., 165000., 326000., 184000.,\n",
       "       119000., 129000., 221000., 133000.,  87000., 138000., 345000.,\n",
       "       217500., 119900., 132500., 176500., 112000., 196000., 348000.,\n",
       "       119000.,  89000., 110000., 201000.,  83000., 129000., 170000.,\n",
       "       190000., 173000., 154000., 176000.,  89000., 213500., 176000.,\n",
       "       197900.,  66500., 230000., 119900., 176500., 109500., 182000.,\n",
       "       153575., 177500., 179665., 213500., 120500., 104900., 190000.,\n",
       "       126000.,  91300., 171000.,  89471., 301500., 134800., 301000.,\n",
       "       312500.,  87000., 314813., 140000., 116000., 139000., 313000.,\n",
       "       223000., 170000.,  98000., 135000., 236000., 189950., 165000.,\n",
       "       160000., 328000., 189950., 198900., 167500.,  98000., 129900.,\n",
       "       302000., 140000., 272000., 176000., 252000., 174900., 211000.,\n",
       "       135000., 100000., 345000., 129900., 130000., 143000.,  83500.,\n",
       "       170000., 208900., 176432., 110000., 136500.,  98000., 132000.,\n",
       "       175900., 359100., 155000., 129000., 146800.,  80000., 181000.,\n",
       "       180000., 118400., 118000., 104900., 187750.,  91000., 251000.,\n",
       "        99900., 142000.,  87000., 154000., 190000., 251000., 197000.,\n",
       "       140000., 181000.,  58500., 260000., 130000., 112000., 177000.,\n",
       "       139000., 277500., 150000., 129000., 198900.,  83000., 180500.,\n",
       "       133000., 140000., 190000., 110000., 139950., 146000., 190000.,\n",
       "       136900., 135000., 179400., 289000., 214500.,  98000., 185000.,\n",
       "       222000., 121600., 236000., 106500., 100000., 123000., 163000.,\n",
       "       140000., 126500., 140000., 360000., 372500., 214000., 109500.,\n",
       "       163500., 177500., 187100.,  86000., 152000., 202500., 137500.,\n",
       "       259500., 185000., 310000., 165400., 120500., 139950., 151000.,\n",
       "       310000.,  80500., 313000., 236000., 212900., 256300., 201000.,\n",
       "       119000., 156500., 196000., 248328., 147000., 179600., 117500.,\n",
       "       165000.])"
      ]
     },
     "execution_count": 12,
     "metadata": {},
     "output_type": "execute_result"
    }
   ],
   "source": [
    "y_test_pred=dtree_reg.predict(x_test_final)\n",
    "y_test_pred"
   ]
  },
  {
   "cell_type": "code",
   "execution_count": 13,
   "id": "653b0d9b",
   "metadata": {},
   "outputs": [
    {
     "data": {
      "text/plain": [
       "0.8137132567248485"
      ]
     },
     "execution_count": 13,
     "metadata": {},
     "output_type": "execute_result"
    }
   ],
   "source": [
    "dtree_reg.score(x_test_final,y_test)# R2 score for test data"
   ]
  },
  {
   "cell_type": "code",
   "execution_count": 18,
   "id": "2220ce57",
   "metadata": {},
   "outputs": [
    {
     "data": {
      "text/plain": [
       "1.0"
      ]
     },
     "execution_count": 18,
     "metadata": {},
     "output_type": "execute_result"
    }
   ],
   "source": [
    "dtree_reg.score(x_train_final,y_train)"
   ]
  },
  {
   "cell_type": "code",
   "execution_count": 17,
   "id": "00b292da",
   "metadata": {},
   "outputs": [
    {
     "data": {
      "text/plain": [
       "0.8137132567248485"
      ]
     },
     "execution_count": 17,
     "metadata": {},
     "output_type": "execute_result"
    }
   ],
   "source": [
    "r2_score(y_test,y_test_pred)"
   ]
  }
 ],
 "metadata": {
  "kernelspec": {
   "display_name": "Python 3",
   "language": "python",
   "name": "python3"
  },
  "language_info": {
   "codemirror_mode": {
    "name": "ipython",
    "version": 3
   },
   "file_extension": ".py",
   "mimetype": "text/x-python",
   "name": "python",
   "nbconvert_exporter": "python",
   "pygments_lexer": "ipython3",
   "version": "3.8.8"
  }
 },
 "nbformat": 4,
 "nbformat_minor": 5
}
